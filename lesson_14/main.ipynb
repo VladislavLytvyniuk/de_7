{
 "cells": [
  {
   "cell_type": "code",
   "execution_count": 11,
   "metadata": {},
   "outputs": [],
   "source": [
    "from pyspark.sql import SparkSession, functions as f\n"
   ]
  },
  {
   "cell_type": "code",
   "execution_count": 12,
   "metadata": {},
   "outputs": [],
   "source": [
    "spark = SparkSession.builder.master('local[3]').getOrCreate()"
   ]
  },
  {
   "cell_type": "code",
   "execution_count": 13,
   "metadata": {},
   "outputs": [
    {
     "name": "stdout",
     "output_type": "stream",
     "text": [
      "3.3.0\n"
     ]
    }
   ],
   "source": [
    "print(spark.version)"
   ]
  },
  {
   "cell_type": "code",
   "execution_count": 4,
   "metadata": {},
   "outputs": [
    {
     "name": "stderr",
     "output_type": "stream",
     "text": [
      "                                                                                \r"
     ]
    }
   ],
   "source": [
    "actor_df = spark.read.csv('./data/actor.csv', header=True, inferSchema=True)\n",
    "address_df = spark.read.csv('./data/address.csv', header=True, inferSchema=True)\n",
    "category_df = spark.read.csv('./data/category.csv', header=True, inferSchema=True)\n",
    "city_df = spark.read.csv('./data/city.csv', header=True, inferSchema=True)\n",
    "country_df = spark.read.csv('./data/country.csv', header=True, inferSchema=True)\n",
    "customer_df = spark.read.csv('./data/customer.csv', header=True, inferSchema=True)\n",
    "film_df = spark.read.csv('./data/film.csv', header=True, inferSchema=True)\n",
    "film_actor_df = spark.read.csv('./data/film_actor.csv', header=True, inferSchema=True)\n",
    "film_category_df = spark.read.csv('./data/film_category.csv', header=True, inferSchema=True)\n",
    "inventory_df = spark.read.csv('./data/inventory.csv', header=True, inferSchema=True)\n",
    "language_df = spark.read.csv('./data/language.csv', header=True, inferSchema=True)\n",
    "payment_df = spark.read.csv('./data/payment.csv', header=True, inferSchema=True)\n",
    "rental_df = spark.read.csv('./data/rental.csv', header=True, inferSchema=True)\n",
    "staff_df = spark.read.csv('./data/staff.csv', header=True, inferSchema=True)\n",
    "store_df = spark.read.csv('./data/store.csv', header=True, inferSchema=True)"
   ]
  },
  {
   "attachments": {},
   "cell_type": "markdown",
   "metadata": {},
   "source": [
    "#### 1. Вивести кількість фільмів в кожній категорії. Результат відсортувати за спаданням."
   ]
  },
  {
   "cell_type": "code",
   "execution_count": 5,
   "metadata": {},
   "outputs": [
    {
     "name": "stdout",
     "output_type": "stream",
     "text": [
      "+-------------+-----------+\n",
      "|category_name|films_count|\n",
      "+-------------+-----------+\n",
      "|       Sports|         74|\n",
      "|      Foreign|         73|\n",
      "|       Family|         69|\n",
      "|  Documentary|         68|\n",
      "|    Animation|         66|\n",
      "|       Action|         64|\n",
      "|          New|         63|\n",
      "|        Drama|         62|\n",
      "|        Games|         61|\n",
      "|       Sci-Fi|         61|\n",
      "|     Children|         60|\n",
      "|       Comedy|         58|\n",
      "|       Travel|         57|\n",
      "|     Classics|         57|\n",
      "|       Horror|         56|\n",
      "|        Music|         51|\n",
      "+-------------+-----------+\n",
      "\n"
     ]
    }
   ],
   "source": [
    "film_df.select(\n",
    "    'film_id'\n",
    ").join(\n",
    "    film_category_df, 'film_id', 'inner'\n",
    ").select(\n",
    "    'category_id'\n",
    ").join(\n",
    "    category_df, 'category_id', 'inner'\n",
    ").select(\n",
    "    f.col('name').alias('category_name')\n",
    ").groupBy(\n",
    "    'category_name'\n",
    ").agg(\n",
    "    f.count(\"*\").alias('films_count')\n",
    ").orderBy(\n",
    "    f.col('films_count').desc()\n",
    ").show()"
   ]
  },
  {
   "attachments": {},
   "cell_type": "markdown",
   "metadata": {},
   "source": [
    "#### 2. Вивести 10 акторів, чиї фільми брали на прокат найбільше. Результат відсортувати за спаданням."
   ]
  },
  {
   "cell_type": "code",
   "execution_count": 6,
   "metadata": {},
   "outputs": [
    {
     "name": "stdout",
     "output_type": "stream",
     "text": [
      "+------------------+------------+\n",
      "|        actor_name|rental_count|\n",
      "+------------------+------------+\n",
      "|       SUSAN DAVIS|         825|\n",
      "|    GINA DEGENERES|         753|\n",
      "|    MATTHEW CARREY|         678|\n",
      "|       MARY KEITEL|         674|\n",
      "|ANGELA WITHERSPOON|         654|\n",
      "|       WALTER TORN|         640|\n",
      "|       HENRY BERRY|         612|\n",
      "|       JAYNE NOLTE|         611|\n",
      "|        VAL BOLGER|         605|\n",
      "|     SANDRA KILMER|         604|\n",
      "+------------------+------------+\n",
      "only showing top 10 rows\n",
      "\n"
     ]
    }
   ],
   "source": [
    "rental_df.select(\n",
    "    'inventory_id'\n",
    ").join(\n",
    "    inventory_df, 'inventory_id', 'inner'\n",
    ").select(\n",
    "    'film_id'\n",
    ").join(\n",
    "    film_actor_df, 'film_id', 'inner'\n",
    ").select(\n",
    "    'actor_id'\n",
    ").join(\n",
    "    actor_df, 'actor_id', 'inner'\n",
    ").select(\n",
    "    f.concat(f.col('first_name'), f.lit(' '), f.col('last_name')).alias('actor_name')\n",
    ").groupBy(\n",
    "    'actor_name'\n",
    ").agg(\n",
    "    f.count(\"*\").alias('rental_count')\n",
    ").orderBy(\n",
    "    f.col('rental_count').desc()\n",
    ").show(10)"
   ]
  },
  {
   "attachments": {},
   "cell_type": "markdown",
   "metadata": {},
   "source": [
    "#### 3. Вивести категорія фільмів, на яку було витрачено найбільше грошей в прокаті"
   ]
  },
  {
   "cell_type": "code",
   "execution_count": 7,
   "metadata": {},
   "outputs": [
    {
     "name": "stdout",
     "output_type": "stream",
     "text": [
      "+------------+-----------------+\n",
      "|top_category|             paid|\n",
      "+------------+-----------------+\n",
      "|      Sports|5314.209999999848|\n",
      "+------------+-----------------+\n",
      "only showing top 1 row\n",
      "\n"
     ]
    }
   ],
   "source": [
    "payment_df.select(\n",
    "    'rental_id', 'amount'\n",
    ").join(\n",
    "    rental_df, 'rental_id', 'inner'\n",
    ").select(\n",
    "    'inventory_id', 'amount'\n",
    ").join(\n",
    "    inventory_df, 'inventory_id', 'inner'\n",
    ").select(\n",
    "    'film_id', 'amount'\n",
    ").join(\n",
    "    film_category_df, 'film_id', 'inner'\n",
    ").join(\n",
    "    category_df, 'category_id', 'inner'\n",
    ").select(\n",
    "    f.col('name').alias('top_category') , 'amount'\n",
    ").groupBy(\n",
    "    'top_category'\n",
    ").agg(\n",
    "    f.sum('amount').alias('paid')\n",
    ").orderBy(\n",
    "    f.col('paid').desc()\n",
    ").show(1)"
   ]
  },
  {
   "attachments": {},
   "cell_type": "markdown",
   "metadata": {},
   "source": [
    "#### 4. Вивести назви фільмів, яких не має в inventory."
   ]
  },
  {
   "cell_type": "code",
   "execution_count": 8,
   "metadata": {},
   "outputs": [
    {
     "name": "stdout",
     "output_type": "stream",
     "text": [
      "+-------------------+\n",
      "|              title|\n",
      "+-------------------+\n",
      "|   ACADEMY DINOSAUR|\n",
      "|     ACE GOLDFINGER|\n",
      "|   ADAPTATION HOLES|\n",
      "|   AFFAIR PREJUDICE|\n",
      "|        AFRICAN EGG|\n",
      "|       AGENT TRUMAN|\n",
      "|    AIRPLANE SIERRA|\n",
      "|    AIRPORT POLLOCK|\n",
      "|      ALABAMA DEVIL|\n",
      "|   ALADDIN CALENDAR|\n",
      "|    ALAMO VIDEOTAPE|\n",
      "|     ALASKA PHANTOM|\n",
      "|         DATE SPEED|\n",
      "|        ALI FOREVER|\n",
      "|       ALIEN CENTER|\n",
      "|    ALLEY EVOLUTION|\n",
      "|         ALONE TRIP|\n",
      "|      ALTER VICTORY|\n",
      "|       AMADEUS HOLY|\n",
      "|AMELIE HELLFIGHTERS|\n",
      "+-------------------+\n",
      "only showing top 20 rows\n",
      "\n"
     ]
    }
   ],
   "source": [
    "film_df.select(\n",
    "    'title', 'film_id'\n",
    ").join(\n",
    "    inventory_df, 'film_id', 'leftsemi'\n",
    ").select(\n",
    "    'title'\n",
    ").show()"
   ]
  },
  {
   "attachments": {},
   "cell_type": "markdown",
   "metadata": {},
   "source": [
    "#### 5. Вивести топ 3 актори, які найбільше зʼявлялись в категорії фільмів “Children”"
   ]
  },
  {
   "cell_type": "code",
   "execution_count": 9,
   "metadata": {},
   "outputs": [
    {
     "name": "stdout",
     "output_type": "stream",
     "text": [
      "+------------+\n",
      "|  actor_name|\n",
      "+------------+\n",
      "|HELEN VOIGHT|\n",
      "| SUSAN DAVIS|\n",
      "|  MARY TANDY|\n",
      "+------------+\n",
      "only showing top 3 rows\n",
      "\n"
     ]
    }
   ],
   "source": [
    "film_df.select(\n",
    "    'film_id'\n",
    ").join(\n",
    "    film_actor_df, 'film_id', 'inner'\n",
    ").select(\n",
    "    'film_id', 'actor_id'\n",
    ").join(\n",
    "    actor_df, 'actor_id', 'inner'\n",
    ").select(\n",
    "    'film_id', 'first_name', 'last_name'\n",
    ").join(\n",
    "    film_category_df, 'film_id', 'inner'\n",
    ").select(\n",
    "    'category_id', 'first_name', 'last_name'\n",
    ").join(\n",
    "    category_df, 'category_id', 'inner'\n",
    ").where(\n",
    "    f.col('name') == 'Children'\n",
    ").select(\n",
    "    f.concat(f.col('first_name'), f.lit(' '), f.col('last_name')).alias('actor_name')\n",
    ").groupBy(\n",
    "    'actor_name'\n",
    ").agg(\n",
    "    f.count('*').alias('_cnt_category')\n",
    ").orderBy(\n",
    "    f.col('_cnt_category').desc()\n",
    ").select(\n",
    "    'actor_name'\n",
    ").show(3)"
   ]
  },
  {
   "cell_type": "code",
   "execution_count": 10,
   "metadata": {},
   "outputs": [],
   "source": [
    "spark.stop()"
   ]
  }
 ],
 "metadata": {
  "kernelspec": {
   "display_name": "pyspark_env",
   "language": "python",
   "name": "python3"
  },
  "language_info": {
   "codemirror_mode": {
    "name": "ipython",
    "version": 3
   },
   "file_extension": ".py",
   "mimetype": "text/x-python",
   "name": "python",
   "nbconvert_exporter": "python",
   "pygments_lexer": "ipython3",
   "version": "3.8.5"
  },
  "orig_nbformat": 4,
  "vscode": {
   "interpreter": {
    "hash": "48f38b552364fa634c5acd8e0a9a36a9cf8f46dbf6b88f57001fd55272b95906"
   }
  }
 },
 "nbformat": 4,
 "nbformat_minor": 2
}
